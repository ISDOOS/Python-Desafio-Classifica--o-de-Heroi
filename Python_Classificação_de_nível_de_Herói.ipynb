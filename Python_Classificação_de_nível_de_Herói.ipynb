{
  "nbformat": 4,
  "nbformat_minor": 0,
  "metadata": {
    "colab": {
      "provenance": []
    },
    "kernelspec": {
      "name": "python3",
      "display_name": "Python 3"
    },
    "language_info": {
      "name": "python"
    }
  },
  "cells": [
    {
      "cell_type": "markdown",
      "source": [
        "Desafio Classificador de Nível de Herói em Python 🦸‍♂️🦸‍♀️"
      ],
      "metadata": {
        "id": "gIwInyMPvUTG"
      }
    },
    {
      "cell_type": "markdown",
      "source": [
        " O código utiliza estruturas de decisão para classificar heróis com base em sua experiência (XP) em diferentes níveis, como Ferro, Bronze, Prata, etc. A inclusão de um loop while permite que o usuário classifique vários heróis consecutivamente. O código é interativo, coletando informações do usuário e apresentando os resultados de forma clara e flexível."
      ],
      "metadata": {
        "id": "bNAsZfk3uCVo"
      }
    },
    {
      "cell_type": "code",
      "source": [
        "while True:\n",
        "    # Solicitar ao usuário o nome e a quantidade de experiência (XP) do herói\n",
        "    nome = input(\"Digite o nome do Herói: \")\n",
        "    xp = int(input(\"Digite a quantidade de experiência (XP) do Herói: \"))\n",
        "\n",
        "    # Utilizar estruturas de decisão para determinar o nível do herói\n",
        "    if xp < 1000:\n",
        "        nivel = \"Ferro\"\n",
        "    elif 1001 <= xp <= 2000:\n",
        "        nivel = \"Bronze\"\n",
        "    elif 2001 <= xp <= 5000:\n",
        "        nivel = \"Prata\"\n",
        "    elif 6001 <= xp <= 7000:\n",
        "        nivel = \"Ouro\"\n",
        "    elif 7001 <= xp <= 8000:\n",
        "        nivel = \"Platina\"\n",
        "    elif 8001 <= xp <= 9000:\n",
        "        nivel = \"Ascendente\"\n",
        "    elif 9001 <= xp <= 10000:\n",
        "        nivel = \"Imortal\"\n",
        "    else:\n",
        "        nivel = \"Radiante\"\n",
        "\n",
        "    # Exibir a mensagem com o nome e o nível do herói\n",
        "    print(f\"O Herói de nome {nome} está no nível de {nivel}\")\n",
        "\n",
        "    # Perguntar ao usuário se deseja classificar outro herói\n",
        "    resposta = input(\"Deseja classificar outro herói? (S para Sim, qualquer outra tecla para sair): \")\n",
        "    if resposta.upper() != \"S\":\n",
        "        break"
      ],
      "metadata": {
        "id": "oiBj5r63ulUG"
      },
      "execution_count": null,
      "outputs": []
    }
  ]
}